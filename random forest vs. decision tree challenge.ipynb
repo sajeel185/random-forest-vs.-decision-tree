{
 "cells": [
  {
   "cell_type": "code",
   "execution_count": 281,
   "metadata": {},
   "outputs": [],
   "source": [
    "import numpy as np\n",
    "import pandas as pd\n",
    "import seaborn as sns\n",
    "import matplotlib.pyplot as plt\n",
    "%matplotlib inline\n",
    "from sklearn.preprocessing import StandardScaler\n",
    "from sklearn import tree\n",
    "from sklearn.decomposition import PCA\n",
    "from sklearn.metrics import confusion_matrix\n",
    "from sklearn import ensemble\n",
    "from sklearn.model_selection import cross_val_score\n",
    "from sklearn.model_selection import train_test_split\n",
    "from sklearn.feature_selection import SelectKBest\n",
    "from sklearn.feature_selection import chi2\n",
    "from sklearn.metrics import classification_report\n",
    "import timeit\n"
   ]
  },
  {
   "cell_type": "markdown",
   "metadata": {},
   "source": [
    "#### The dataset I studied was the \"IBM HR Analytics Employee Attrition & Performance\" dataset.  It contains information for over 1400 employees; information such as hourly rate, education levels, job and environment satisfaction, gender, distance from home, business travel, years at company, and years with current manager, among many other data points.  It also tells us whether or not that job or job position was lost due to attrition.  \n"
   ]
  },
  {
   "cell_type": "code",
   "execution_count": 282,
   "metadata": {},
   "outputs": [
    {
     "name": "stdout",
     "output_type": "stream",
     "text": [
      "   Age Attrition     BusinessTravel  DailyRate              Department  \\\n",
      "0   41       Yes      Travel_Rarely       1102                   Sales   \n",
      "1   49        No  Travel_Frequently        279  Research & Development   \n",
      "2   37       Yes      Travel_Rarely       1373  Research & Development   \n",
      "3   33        No  Travel_Frequently       1392  Research & Development   \n",
      "4   27        No      Travel_Rarely        591  Research & Development   \n",
      "\n",
      "   DistanceFromHome  Education EducationField  EmployeeCount  EmployeeNumber  \\\n",
      "0                 1          2  Life Sciences              1               1   \n",
      "1                 8          1  Life Sciences              1               2   \n",
      "2                 2          2          Other              1               4   \n",
      "3                 3          4  Life Sciences              1               5   \n",
      "4                 2          1        Medical              1               7   \n",
      "\n",
      "           ...           RelationshipSatisfaction StandardHours  \\\n",
      "0          ...                                  1            80   \n",
      "1          ...                                  4            80   \n",
      "2          ...                                  2            80   \n",
      "3          ...                                  3            80   \n",
      "4          ...                                  4            80   \n",
      "\n",
      "   StockOptionLevel  TotalWorkingYears  TrainingTimesLastYear WorkLifeBalance  \\\n",
      "0                 0                  8                      0               1   \n",
      "1                 1                 10                      3               3   \n",
      "2                 0                  7                      3               3   \n",
      "3                 0                  8                      3               3   \n",
      "4                 1                  6                      3               3   \n",
      "\n",
      "   YearsAtCompany YearsInCurrentRole  YearsSinceLastPromotion  \\\n",
      "0               6                  4                        0   \n",
      "1              10                  7                        1   \n",
      "2               0                  0                        0   \n",
      "3               8                  7                        3   \n",
      "4               2                  2                        2   \n",
      "\n",
      "   YearsWithCurrManager  \n",
      "0                     5  \n",
      "1                     7  \n",
      "2                     0  \n",
      "3                     0  \n",
      "4                     2  \n",
      "\n",
      "[5 rows x 35 columns]\n",
      "(1470, 35)\n"
     ]
    }
   ],
   "source": [
    "df = pd.read_csv(\"HR-Employee-Attrition.csv\")\n",
    "df = df.dropna()\n",
    "df = df.drop_duplicates()\n",
    "\n",
    "print(df.head())\n",
    "print(df.shape)"
   ]
  },
  {
   "cell_type": "code",
   "execution_count": 283,
   "metadata": {},
   "outputs": [
    {
     "name": "stdout",
     "output_type": "stream",
     "text": [
      "<class 'pandas.core.frame.DataFrame'>\n"
     ]
    }
   ],
   "source": [
    "#splitting the data\n",
    "\n",
    "X = df.drop('Attrition', 1)\n",
    "Y = df['Attrition']\n",
    "\n",
    "print(type(X))\n"
   ]
  },
  {
   "cell_type": "code",
   "execution_count": 284,
   "metadata": {},
   "outputs": [
    {
     "name": "stdout",
     "output_type": "stream",
     "text": [
      "(1470, 55)\n"
     ]
    }
   ],
   "source": [
    "XD = pd.get_dummies(X, columns=['BusinessTravel', 'Department', 'EducationField', 'Gender', 'JobRole', 'MaritalStatus', \n",
    "                                'OverTime', 'Over18'])\n",
    "#print(XD.head())\n",
    "print(XD.shape)"
   ]
  },
  {
   "cell_type": "code",
   "execution_count": 285,
   "metadata": {},
   "outputs": [],
   "source": [
    "#splitting the data into train and test groups.\n",
    "\n",
    "train_XD, test_XD, train_Y, test_Y = train_test_split(XD, Y, test_size=.2, random_state=20)"
   ]
  },
  {
   "cell_type": "markdown",
   "metadata": {},
   "source": [
    "## Initial Decision Tree:"
   ]
  },
  {
   "cell_type": "code",
   "execution_count": 286,
   "metadata": {},
   "outputs": [
    {
     "data": {
      "text/plain": [
       "DecisionTreeClassifier(class_weight=None, criterion='entropy', max_depth=6,\n",
       "            max_features=1, max_leaf_nodes=None, min_impurity_decrease=0.0,\n",
       "            min_impurity_split=None, min_samples_leaf=1,\n",
       "            min_samples_split=2, min_weight_fraction_leaf=0.0,\n",
       "            presort=False, random_state=1337, splitter='best')"
      ]
     },
     "execution_count": 286,
     "metadata": {},
     "output_type": "execute_result"
    }
   ],
   "source": [
    "# Initialize and train our tree.\n",
    "initial_d_tree = tree.DecisionTreeClassifier(\n",
    "    criterion='entropy',\n",
    "    max_features=1,\n",
    "    max_depth=6,\n",
    "    random_state = 1337\n",
    ")\n",
    "initial_d_tree.fit(train_XD, train_Y)\n",
    "\n"
   ]
  },
  {
   "cell_type": "markdown",
   "metadata": {},
   "source": [
    "##### Accuracy score:"
   ]
  },
  {
   "cell_type": "code",
   "execution_count": 287,
   "metadata": {},
   "outputs": [
    {
     "name": "stdout",
     "output_type": "stream",
     "text": [
      "0.826530612244898\n"
     ]
    }
   ],
   "source": [
    "tree_score = initial_d_tree.score(test_XD, test_Y)\n",
    "tree_score_str = str(tree_score)\n",
    "print(tree_score)"
   ]
  },
  {
   "cell_type": "code",
   "execution_count": 338,
   "metadata": {},
   "outputs": [
    {
     "name": "stdout",
     "output_type": "stream",
     "text": [
      "0.00021750199812231585\n"
     ]
    }
   ],
   "source": [
    "tree_runtime = timeit.timeit(stmt = tree_score_str, number = 10000)\n",
    "print(tree_runtime)"
   ]
  },
  {
   "cell_type": "markdown",
   "metadata": {},
   "source": [
    "##### Confusion Matrix to check accuracy of decision tree:"
   ]
  },
  {
   "cell_type": "code",
   "execution_count": 289,
   "metadata": {},
   "outputs": [
    {
     "data": {
      "text/plain": [
       "array([[242,   1],\n",
       "       [ 50,   1]], dtype=int64)"
      ]
     },
     "execution_count": 289,
     "metadata": {},
     "output_type": "execute_result"
    }
   ],
   "source": [
    "y_pred = initial_d_tree.predict(test_XD)\n",
    "\n",
    "confusion_matrix(test_Y, y_pred)"
   ]
  },
  {
   "cell_type": "markdown",
   "metadata": {},
   "source": [
    "##### From looking at the results of the confusion matrix, I can say that overall our decision tree was successful at predicting attrition.  For 240 observations, the model correctly predicted that the loss of jobs were not due to attrition;  and for 13 observations, the model correctly predicted that the loss of jobs were due to attrition.\n",
    "\n",
    "##### However we had 3 predictions that were actually false positives, and 38 predictions that were actually false negatives."
   ]
  },
  {
   "cell_type": "markdown",
   "metadata": {},
   "source": [
    "##### Cross Validation to check accuracy of decision tree:"
   ]
  },
  {
   "cell_type": "code",
   "execution_count": 290,
   "metadata": {},
   "outputs": [
    {
     "data": {
      "text/plain": [
       "array([0.80645161, 0.83333333, 0.8       , 0.86206897, 0.79310345,\n",
       "       0.72413793, 0.79310345, 0.82758621, 0.86206897, 0.82758621])"
      ]
     },
     "execution_count": 290,
     "metadata": {},
     "output_type": "execute_result"
    }
   ],
   "source": [
    "cross_val_score(initial_d_tree, test_XD, test_Y, cv=10)"
   ]
  },
  {
   "cell_type": "markdown",
   "metadata": {},
   "source": [
    "## Initial Random Forest Model:"
   ]
  },
  {
   "cell_type": "code",
   "execution_count": 291,
   "metadata": {},
   "outputs": [
    {
     "data": {
      "text/plain": [
       "RandomForestClassifier(bootstrap=True, class_weight=None, criterion='gini',\n",
       "            max_depth=None, max_features='auto', max_leaf_nodes=None,\n",
       "            min_impurity_decrease=0.0, min_impurity_split=None,\n",
       "            min_samples_leaf=1, min_samples_split=2,\n",
       "            min_weight_fraction_leaf=0.0, n_estimators=10, n_jobs=1,\n",
       "            oob_score=False, random_state=1330, verbose=0,\n",
       "            warm_start=False)"
      ]
     },
     "execution_count": 291,
     "metadata": {},
     "output_type": "execute_result"
    }
   ],
   "source": [
    "rfc = ensemble.RandomForestClassifier(random_state=1330)\n",
    "rfc.fit(XD, Y)\n",
    "\n"
   ]
  },
  {
   "cell_type": "code",
   "execution_count": 339,
   "metadata": {},
   "outputs": [
    {
     "name": "stdout",
     "output_type": "stream",
     "text": [
      "[0.80405405 0.84459459 0.85135135 0.88435374 0.85714286 0.85034014\n",
      " 0.84353741 0.85616438 0.84931507 0.85616438]\n"
     ]
    }
   ],
   "source": [
    "rf_score = cross_val_score(rfc, XD, Y, cv=10)\n",
    "rf_score_str = str(rf_score)\n",
    "print(rf_score)"
   ]
  },
  {
   "cell_type": "code",
   "execution_count": 340,
   "metadata": {},
   "outputs": [
    {
     "ename": "SyntaxError",
     "evalue": "invalid syntax (<timeit-src>, line 2)",
     "output_type": "error",
     "traceback": [
      "Traceback \u001b[1;36m(most recent call last)\u001b[0m:\n",
      "  File \u001b[0;32m\"C:\\Users\\PV-R68G\\Anaconda3\\lib\\site-packages\\IPython\\core\\interactiveshell.py\"\u001b[0m, line \u001b[0;32m2961\u001b[0m, in \u001b[0;35mrun_code\u001b[0m\n    exec(code_obj, self.user_global_ns, self.user_ns)\n",
      "  File \u001b[0;32m\"<ipython-input-340-a11fae1bcf04>\"\u001b[0m, line \u001b[0;32m1\u001b[0m, in \u001b[0;35m<module>\u001b[0m\n    tree_runtime = timeit.timeit(stmt = rf_score_str, number = 10000)\n",
      "  File \u001b[0;32m\"C:\\Users\\PV-R68G\\Anaconda3\\lib\\timeit.py\"\u001b[0m, line \u001b[0;32m232\u001b[0m, in \u001b[0;35mtimeit\u001b[0m\n    return Timer(stmt, setup, timer, globals).timeit(number)\n",
      "\u001b[1;36m  File \u001b[1;32m\"C:\\Users\\PV-R68G\\Anaconda3\\lib\\timeit.py\"\u001b[1;36m, line \u001b[1;32m121\u001b[1;36m, in \u001b[1;35m__init__\u001b[1;36m\u001b[0m\n\u001b[1;33m    compile(stmtprefix + stmt, dummy_src_name, \"exec\")\u001b[0m\n",
      "\u001b[1;36m  File \u001b[1;32m\"<timeit-src>\"\u001b[1;36m, line \u001b[1;32m2\u001b[0m\n\u001b[1;33m    [0.80405405 0.84459459 0.85135135 0.88435374 0.85714286 0.85034014\u001b[0m\n\u001b[1;37m                         ^\u001b[0m\n\u001b[1;31mSyntaxError\u001b[0m\u001b[1;31m:\u001b[0m invalid syntax\n"
     ]
    }
   ],
   "source": [
    "tree_runtime = timeit.timeit(stmt = rf_score_str, number = 10000)\n",
    "print(tree_runtime)"
   ]
  },
  {
   "cell_type": "markdown",
   "metadata": {},
   "source": [
    "##### Confusion Matrix to check accuracy of random forest:"
   ]
  },
  {
   "cell_type": "code",
   "execution_count": 293,
   "metadata": {},
   "outputs": [
    {
     "data": {
      "text/plain": [
       "array([[243,   0],\n",
       "       [  9,  42]], dtype=int64)"
      ]
     },
     "execution_count": 293,
     "metadata": {},
     "output_type": "execute_result"
    }
   ],
   "source": [
    "y_predrf = rfc.predict(test_XD)\n",
    "\n",
    "confusion_matrix(test_Y, y_predrf)"
   ]
  },
  {
   "cell_type": "markdown",
   "metadata": {},
   "source": [
    "From looking at the results of the confusion matrix for the random forest, I can say that overall our random forest was successful at predicting attrition.  For 243 observations, the model correctly predicted that the loss of jobs were not due to attrition;  and for 43 observations, the model correctly predicted that the loss of jobs were due to attrition.\n",
    "\n",
    "We had zero false positives with our random forest model, and 6 predictions that were actually false negatives."
   ]
  },
  {
   "cell_type": "markdown",
   "metadata": {},
   "source": [
    "# Classification Report:"
   ]
  },
  {
   "cell_type": "code",
   "execution_count": 294,
   "metadata": {},
   "outputs": [
    {
     "data": {
      "text/plain": [
       "DecisionTreeClassifier(class_weight=None, criterion='entropy', max_depth=6,\n",
       "            max_features=1, max_leaf_nodes=None, min_impurity_decrease=0.0,\n",
       "            min_impurity_split=None, min_samples_leaf=1,\n",
       "            min_samples_split=2, min_weight_fraction_leaf=0.0,\n",
       "            presort=False, random_state=1337, splitter='best')"
      ]
     },
     "execution_count": 294,
     "metadata": {},
     "output_type": "execute_result"
    }
   ],
   "source": [
    "# Initialize and train our tree.\n",
    "d_tree_cr = tree.DecisionTreeClassifier(\n",
    "    criterion='entropy',\n",
    "    max_features=1,\n",
    "    max_depth=6,\n",
    "    random_state = 1337\n",
    ")\n",
    "d_tree_cr.fit(XD, Y)"
   ]
  },
  {
   "cell_type": "code",
   "execution_count": 295,
   "metadata": {},
   "outputs": [],
   "source": [
    "y_predcr = d_tree_cr.predict(XD)\n",
    "\n",
    "class_names = ['Attrition', 'Not Attrition']"
   ]
  },
  {
   "cell_type": "markdown",
   "metadata": {},
   "source": [
    "## Classification Report for decision tree:"
   ]
  },
  {
   "cell_type": "code",
   "execution_count": 296,
   "metadata": {},
   "outputs": [
    {
     "name": "stdout",
     "output_type": "stream",
     "text": [
      "               precision    recall  f1-score   support\n",
      "\n",
      "    Attrition       0.86      0.98      0.92      1233\n",
      "Not Attrition       0.69      0.19      0.30       237\n",
      "\n",
      "  avg / total       0.84      0.86      0.82      1470\n",
      "\n"
     ]
    }
   ],
   "source": [
    "tree_report = classification_report(Y, y_predcr, target_names=class_names)\n",
    "print(tree_report)"
   ]
  },
  {
   "cell_type": "markdown",
   "metadata": {},
   "source": [
    "## Classification Report for Random Forest:"
   ]
  },
  {
   "cell_type": "code",
   "execution_count": 297,
   "metadata": {},
   "outputs": [
    {
     "data": {
      "text/plain": [
       "RandomForestClassifier(bootstrap=True, class_weight=None, criterion='gini',\n",
       "            max_depth=None, max_features='auto', max_leaf_nodes=None,\n",
       "            min_impurity_decrease=0.0, min_impurity_split=None,\n",
       "            min_samples_leaf=1, min_samples_split=2,\n",
       "            min_weight_fraction_leaf=0.0, n_estimators=10, n_jobs=1,\n",
       "            oob_score=False, random_state=None, verbose=0,\n",
       "            warm_start=False)"
      ]
     },
     "execution_count": 297,
     "metadata": {},
     "output_type": "execute_result"
    }
   ],
   "source": [
    "rfc_cr = ensemble.RandomForestClassifier()\n",
    "rfc_cr.fit(XD, Y)"
   ]
  },
  {
   "cell_type": "code",
   "execution_count": 298,
   "metadata": {},
   "outputs": [],
   "source": [
    "y_predfcr = rfc_cr.predict(XD)"
   ]
  },
  {
   "cell_type": "code",
   "execution_count": 299,
   "metadata": {},
   "outputs": [
    {
     "name": "stdout",
     "output_type": "stream",
     "text": [
      "               precision    recall  f1-score   support\n",
      "\n",
      "    Attrition       0.98      1.00      0.99      1233\n",
      "Not Attrition       1.00      0.92      0.96       237\n",
      "\n",
      "  avg / total       0.99      0.99      0.99      1470\n",
      "\n"
     ]
    }
   ],
   "source": [
    "forest_report = classification_report(Y, y_predfcr, target_names=class_names)\n",
    "print(forest_report)"
   ]
  },
  {
   "cell_type": "markdown",
   "metadata": {},
   "source": [
    "# After feature reduction using selectKbest:"
   ]
  },
  {
   "cell_type": "code",
   "execution_count": 300,
   "metadata": {},
   "outputs": [
    {
     "name": "stdout",
     "output_type": "stream",
     "text": [
      "(1470, 55)\n",
      "(1470, 5)\n",
      "(1470,)\n"
     ]
    }
   ],
   "source": [
    "XD_skb = SelectKBest(chi2, k=5).fit_transform(XD, Y)\n",
    "print(XD.shape)\n",
    "print(XD_skb.shape)\n",
    "print(Y.shape)"
   ]
  },
  {
   "cell_type": "code",
   "execution_count": 301,
   "metadata": {},
   "outputs": [],
   "source": [
    "#After applying selectKbest, I split the data into train and test groups.\n",
    "\n",
    "train_XD2, test_XD2, train_Y2, test_Y2 = train_test_split(XD_skb, Y, test_size=.2, random_state=20)\n"
   ]
  },
  {
   "cell_type": "markdown",
   "metadata": {},
   "source": [
    "## SelectKbest Decision Tree:"
   ]
  },
  {
   "cell_type": "code",
   "execution_count": 302,
   "metadata": {},
   "outputs": [],
   "source": [
    "# Initialize and train our tree.\n",
    "skb_d_tree = tree.DecisionTreeClassifier(\n",
    "    criterion='entropy',\n",
    "    max_features=1,\n",
    "    max_depth=6,\n",
    "    random_state = 1337\n",
    ")\n",
    "skb_tree_fit = skb_d_tree.fit(train_XD2, train_Y2)"
   ]
  },
  {
   "cell_type": "markdown",
   "metadata": {},
   "source": [
    "##### Accuracy score:"
   ]
  },
  {
   "cell_type": "code",
   "execution_count": 303,
   "metadata": {},
   "outputs": [
    {
     "name": "stdout",
     "output_type": "stream",
     "text": [
      "0.8129251700680272\n"
     ]
    }
   ],
   "source": [
    "print(skb_tree_fit.score(test_XD2, test_Y2))\n"
   ]
  },
  {
   "cell_type": "markdown",
   "metadata": {},
   "source": [
    "##### Confusion Matrix to check accuracy of decision tree:"
   ]
  },
  {
   "cell_type": "code",
   "execution_count": 304,
   "metadata": {},
   "outputs": [
    {
     "data": {
      "text/plain": [
       "array([[233,  10],\n",
       "       [ 45,   6]], dtype=int64)"
      ]
     },
     "execution_count": 304,
     "metadata": {},
     "output_type": "execute_result"
    }
   ],
   "source": [
    "y_pred2 = skb_tree_fit.predict(test_XD2)\n",
    "\n",
    "confusion_matrix(test_Y2, y_pred2)"
   ]
  },
  {
   "cell_type": "markdown",
   "metadata": {},
   "source": [
    "##### Cross validation to check accuracy of our decision tree, after selectkbest:"
   ]
  },
  {
   "cell_type": "code",
   "execution_count": 305,
   "metadata": {},
   "outputs": [
    {
     "data": {
      "text/plain": [
       "array([0.82432432, 0.83783784, 0.81081081, 0.82993197, 0.81632653,\n",
       "       0.82993197, 0.80272109, 0.82876712, 0.83561644, 0.84931507])"
      ]
     },
     "execution_count": 305,
     "metadata": {},
     "output_type": "execute_result"
    }
   ],
   "source": [
    "cross_val_score(skb_tree_fit, XD_skb, Y, cv=10)"
   ]
  },
  {
   "cell_type": "markdown",
   "metadata": {},
   "source": [
    "## SelectKbest Random Forest Model:"
   ]
  },
  {
   "cell_type": "code",
   "execution_count": 306,
   "metadata": {},
   "outputs": [],
   "source": [
    "rfc2 = ensemble.RandomForestClassifier(random_state=1330)\n",
    "rfc2_mfit = rfc2.fit(XD_skb, Y)"
   ]
  },
  {
   "cell_type": "markdown",
   "metadata": {},
   "source": [
    "##### Accuracy score:"
   ]
  },
  {
   "cell_type": "code",
   "execution_count": 307,
   "metadata": {},
   "outputs": [
    {
     "data": {
      "text/plain": [
       "array([0.82432432, 0.81081081, 0.83783784, 0.81632653, 0.79591837,\n",
       "       0.80272109, 0.83673469, 0.81506849, 0.84246575, 0.82191781])"
      ]
     },
     "execution_count": 307,
     "metadata": {},
     "output_type": "execute_result"
    }
   ],
   "source": [
    "cross_val_score(rfc2_mfit, XD_skb, Y, cv=10)"
   ]
  },
  {
   "cell_type": "markdown",
   "metadata": {},
   "source": [
    "##### Confusion matrix to check accuracy of random forest model, after selectkbest:"
   ]
  },
  {
   "cell_type": "code",
   "execution_count": 308,
   "metadata": {},
   "outputs": [
    {
     "data": {
      "text/plain": [
       "array([[243,   0],\n",
       "       [ 12,  39]], dtype=int64)"
      ]
     },
     "execution_count": 308,
     "metadata": {},
     "output_type": "execute_result"
    }
   ],
   "source": [
    "y_predrf2 = rfc2.predict(test_XD2)\n",
    "\n",
    "confusion_matrix(test_Y2, y_predrf2)"
   ]
  },
  {
   "cell_type": "markdown",
   "metadata": {},
   "source": [
    "## Classification report after selectKbest:"
   ]
  },
  {
   "cell_type": "markdown",
   "metadata": {},
   "source": [
    "### Classification Report for decision tree:"
   ]
  },
  {
   "cell_type": "code",
   "execution_count": 309,
   "metadata": {},
   "outputs": [
    {
     "data": {
      "text/plain": [
       "DecisionTreeClassifier(class_weight=None, criterion='entropy', max_depth=6,\n",
       "            max_features=1, max_leaf_nodes=None, min_impurity_decrease=0.0,\n",
       "            min_impurity_split=None, min_samples_leaf=1,\n",
       "            min_samples_split=2, min_weight_fraction_leaf=0.0,\n",
       "            presort=False, random_state=1337, splitter='best')"
      ]
     },
     "execution_count": 309,
     "metadata": {},
     "output_type": "execute_result"
    }
   ],
   "source": [
    "# Initialize and train our tree.\n",
    "skb_tree_cr = tree.DecisionTreeClassifier(\n",
    "    criterion='entropy',\n",
    "    max_features=1,\n",
    "    max_depth=6,\n",
    "    random_state = 1337\n",
    ")\n",
    "skb_tree_cr.fit(XD_skb, Y)"
   ]
  },
  {
   "cell_type": "code",
   "execution_count": 310,
   "metadata": {},
   "outputs": [],
   "source": [
    "y_pred_skbcr = skb_tree_cr.predict(XD_skb)\n",
    "\n",
    "class_names = ['Attrition', 'Not Attrition']"
   ]
  },
  {
   "cell_type": "code",
   "execution_count": 311,
   "metadata": {},
   "outputs": [
    {
     "name": "stdout",
     "output_type": "stream",
     "text": [
      "               precision    recall  f1-score   support\n",
      "\n",
      "    Attrition       0.86      0.98      0.92      1233\n",
      "Not Attrition       0.68      0.20      0.31       237\n",
      "\n",
      "  avg / total       0.83      0.86      0.82      1470\n",
      "\n"
     ]
    }
   ],
   "source": [
    "tree_report2 = classification_report(Y, y_pred_skbcr, target_names=class_names)\n",
    "print(tree_report2)"
   ]
  },
  {
   "cell_type": "markdown",
   "metadata": {},
   "source": [
    "#### Precision in our classification report represents how good our model is at predicting the true positives, and avoiding false positives.  After applying selectKbest and reducing the features in our data from 55 to 5, the precision ratio went down from .84 to .83, suggesting the decrease was not significant.  However, the decrease in features most likely made our model quicker in execution.  \n",
    "\n",
    "#### The recall represents the ability of our model to find all the positive samples.  The ratio did not change after applying selectKbest.  "
   ]
  },
  {
   "cell_type": "markdown",
   "metadata": {},
   "source": [
    "### Classification Report for random forest:"
   ]
  },
  {
   "cell_type": "code",
   "execution_count": 312,
   "metadata": {},
   "outputs": [
    {
     "data": {
      "text/plain": [
       "RandomForestClassifier(bootstrap=True, class_weight=None, criterion='gini',\n",
       "            max_depth=None, max_features='auto', max_leaf_nodes=None,\n",
       "            min_impurity_decrease=0.0, min_impurity_split=None,\n",
       "            min_samples_leaf=1, min_samples_split=2,\n",
       "            min_weight_fraction_leaf=0.0, n_estimators=10, n_jobs=1,\n",
       "            oob_score=False, random_state=None, verbose=0,\n",
       "            warm_start=False)"
      ]
     },
     "execution_count": 312,
     "metadata": {},
     "output_type": "execute_result"
    }
   ],
   "source": [
    "rfc2_cr = ensemble.RandomForestClassifier()\n",
    "rfc2_cr.fit(XD_skb, Y)"
   ]
  },
  {
   "cell_type": "code",
   "execution_count": 313,
   "metadata": {},
   "outputs": [],
   "source": [
    "y_pred2_skbcr = rfc2_cr.predict(XD_skb)\n",
    "\n",
    "class_names = ['Attrition', 'Not Attrition']"
   ]
  },
  {
   "cell_type": "code",
   "execution_count": 314,
   "metadata": {},
   "outputs": [
    {
     "name": "stdout",
     "output_type": "stream",
     "text": [
      "               precision    recall  f1-score   support\n",
      "\n",
      "    Attrition       0.97      1.00      0.98      1233\n",
      "Not Attrition       0.99      0.82      0.90       237\n",
      "\n",
      "  avg / total       0.97      0.97      0.97      1470\n",
      "\n"
     ]
    }
   ],
   "source": [
    "rfc2_report2 = classification_report(Y, y_pred2_skbcr, target_names=class_names)\n",
    "print(rfc2_report2)"
   ]
  },
  {
   "cell_type": "markdown",
   "metadata": {},
   "source": [
    "#### Precision in our classification report represents how good our model is at predicting the true positives, and avoiding false positives.  After applying selectKbest and reducing the features in our data from 55 to 5, the precision ratio went down from .99 to .98, suggesting the decrease was not significant.  However, the decrease in features most likely made our model quicker in execution.  \n",
    "\n",
    "#### The recall represents the ability of our model to find all the positive samples.  This ratio slightly decreased after applying selectKbest from .99 to .98. "
   ]
  },
  {
   "cell_type": "markdown",
   "metadata": {},
   "source": [
    "# After PCA:"
   ]
  },
  {
   "cell_type": "code",
   "execution_count": 315,
   "metadata": {},
   "outputs": [],
   "source": [
    "corrmat = XD.corr()\n",
    "#print(corrmat)\n"
   ]
  },
  {
   "cell_type": "code",
   "execution_count": 316,
   "metadata": {},
   "outputs": [
    {
     "data": {
      "image/png": "[encoded data removed]",
      "text/plain": [
       "<Figure size 432x288 with 2 Axes>"
      ]
     },
     "metadata": {
      "needs_background": "light"
     },
     "output_type": "display_data"
    }
   ],
   "source": [
    "\n",
    "# Draw the heatmap using seaborn.\n",
    "sns.heatmap(corrmat, vmax=.8, square=True)\n",
    "plt.show()"
   ]
  },
  {
   "cell_type": "code",
   "execution_count": 317,
   "metadata": {},
   "outputs": [
    {
     "name": "stdout",
     "output_type": "stream",
     "text": [
      "(1470, 55)\n"
     ]
    }
   ],
   "source": [
    "# Normalize the data so that all variables have a mean of 0 and standard deviation\n",
    "# o\n",
    "\n",
    "\n",
    "XD = StandardScaler().fit_transform(XD)\n",
    "\n",
    "\n",
    "\n",
    "#scaler = StandardScaler()\n",
    "# Fit on training set only.\n",
    "#scaler.fit(train_XD)\n",
    "# Apply transform to both the training set and the test set.\n",
    "#train_XD = scaler.transform(train_XD)\n",
    "#test_XD = scaler.transform(test_XD)\n",
    "\n",
    "print(XD.shape)"
   ]
  },
  {
   "cell_type": "code",
   "execution_count": 318,
   "metadata": {},
   "outputs": [],
   "source": [
    "#Apply PCA\n",
    "\n",
    "pca = PCA(.95)\n",
    "pca_XD = pca.fit_transform(XD)\n",
    "\n",
    "comp_no = pca.n_components_\n",
    "comp_var_ratio = pca.explained_variance_ratio_\n",
    "\n",
    "#print(comp_no)\n",
    "#print(comp_var_ratio)\n",
    "#print(p_components)"
   ]
  },
  {
   "cell_type": "code",
   "execution_count": 319,
   "metadata": {},
   "outputs": [
    {
     "name": "stdout",
     "output_type": "stream",
     "text": [
      "(1470, 34)\n"
     ]
    }
   ],
   "source": [
    "pca_df = pd.DataFrame(data=pca_XD)\n",
    "#print(pca_df.head())\n",
    "print(pca_df.shape)"
   ]
  },
  {
   "cell_type": "code",
   "execution_count": 320,
   "metadata": {},
   "outputs": [
    {
     "name": "stdout",
     "output_type": "stream",
     "text": [
      "(1470, 34)\n"
     ]
    }
   ],
   "source": [
    "#After applying selectKbest, I split the data into train and test groups.\n",
    "\n",
    "train_XD3, test_XD3, train_Y3, test_Y3 = train_test_split(pca_XD, Y, test_size=.2, random_state=20)\n",
    "\n",
    "print(pca_XD.shape)\n"
   ]
  },
  {
   "cell_type": "markdown",
   "metadata": {},
   "source": [
    "## Decision Tree after PCA: "
   ]
  },
  {
   "cell_type": "code",
   "execution_count": 321,
   "metadata": {},
   "outputs": [],
   "source": [
    "# Initialize and train our tree.\n",
    "pca_d_tree = tree.DecisionTreeClassifier(\n",
    "    criterion='entropy',\n",
    "    max_features=1,\n",
    "    max_depth=6,\n",
    "    random_state = 1337\n",
    ")\n",
    "pca_w_dtree = pca_d_tree.fit(train_XD3, train_Y3)\n",
    "\n"
   ]
  },
  {
   "cell_type": "markdown",
   "metadata": {},
   "source": [
    "##### accuracy score:"
   ]
  },
  {
   "cell_type": "code",
   "execution_count": 322,
   "metadata": {},
   "outputs": [
    {
     "name": "stdout",
     "output_type": "stream",
     "text": [
      "0.8129251700680272\n"
     ]
    }
   ],
   "source": [
    "\n",
    "print(pca_w_dtree.score(test_XD3, test_Y3))"
   ]
  },
  {
   "cell_type": "markdown",
   "metadata": {},
   "source": [
    "##### Confusion matrix to check accuracy of decision tree, after PCA:"
   ]
  },
  {
   "cell_type": "code",
   "execution_count": 323,
   "metadata": {},
   "outputs": [
    {
     "data": {
      "text/plain": [
       "array([[237,   6],\n",
       "       [ 49,   2]], dtype=int64)"
      ]
     },
     "execution_count": 323,
     "metadata": {},
     "output_type": "execute_result"
    }
   ],
   "source": [
    "y_pred3 = pca_w_dtree.predict(test_XD3)\n",
    "\n",
    "confusion_matrix(test_Y, y_pred3)"
   ]
  },
  {
   "cell_type": "markdown",
   "metadata": {},
   "source": [
    "##### Cross validation to check accuracy of decision tree, after PCA:"
   ]
  },
  {
   "cell_type": "code",
   "execution_count": 324,
   "metadata": {},
   "outputs": [
    {
     "data": {
      "text/plain": [
       "array([0.83108108, 0.81081081, 0.80405405, 0.84353741, 0.82993197,\n",
       "       0.82993197, 0.81632653, 0.82876712, 0.84246575, 0.84246575])"
      ]
     },
     "execution_count": 324,
     "metadata": {},
     "output_type": "execute_result"
    }
   ],
   "source": [
    "cross_val_score(pca_w_dtree, pca_XD, Y, cv=10)"
   ]
  },
  {
   "cell_type": "markdown",
   "metadata": {},
   "source": [
    "## PCA Random Forest Model:"
   ]
  },
  {
   "cell_type": "code",
   "execution_count": 325,
   "metadata": {},
   "outputs": [],
   "source": [
    "rfc3 = ensemble.RandomForestClassifier(random_state=1330)\n",
    "rfc3_mfit = rfc3.fit(pca_XD, Y)"
   ]
  },
  {
   "cell_type": "markdown",
   "metadata": {},
   "source": [
    "##### Accuracy score:"
   ]
  },
  {
   "cell_type": "code",
   "execution_count": 326,
   "metadata": {},
   "outputs": [
    {
     "data": {
      "text/plain": [
       "array([0.84459459, 0.84459459, 0.84459459, 0.84353741, 0.82993197,\n",
       "       0.84353741, 0.83673469, 0.85616438, 0.86986301, 0.8630137 ])"
      ]
     },
     "execution_count": 326,
     "metadata": {},
     "output_type": "execute_result"
    }
   ],
   "source": [
    "cross_val_score(rfc3_mfit, pca_XD, Y, cv=10)"
   ]
  },
  {
   "cell_type": "markdown",
   "metadata": {},
   "source": [
    "##### Confusion matrix to check accuracy score, after PCA:"
   ]
  },
  {
   "cell_type": "code",
   "execution_count": 327,
   "metadata": {},
   "outputs": [
    {
     "data": {
      "text/plain": [
       "array([[243,   0],\n",
       "       [  7,  44]], dtype=int64)"
      ]
     },
     "execution_count": 327,
     "metadata": {},
     "output_type": "execute_result"
    }
   ],
   "source": [
    "y_predrf3 = rfc3.predict(test_XD3)\n",
    "\n",
    "confusion_matrix(test_Y3, y_predrf3)"
   ]
  },
  {
   "cell_type": "markdown",
   "metadata": {},
   "source": [
    "# Classification report after PCA:"
   ]
  },
  {
   "cell_type": "markdown",
   "metadata": {},
   "source": [
    "### Classification report for decision tree:"
   ]
  },
  {
   "cell_type": "code",
   "execution_count": 328,
   "metadata": {},
   "outputs": [
    {
     "data": {
      "text/plain": [
       "DecisionTreeClassifier(class_weight=None, criterion='entropy', max_depth=6,\n",
       "            max_features=1, max_leaf_nodes=None, min_impurity_decrease=0.0,\n",
       "            min_impurity_split=None, min_samples_leaf=1,\n",
       "            min_samples_split=2, min_weight_fraction_leaf=0.0,\n",
       "            presort=False, random_state=1337, splitter='best')"
      ]
     },
     "execution_count": 328,
     "metadata": {},
     "output_type": "execute_result"
    }
   ],
   "source": [
    "# Initialize and train our tree.\n",
    "pca_tree_cr = tree.DecisionTreeClassifier(\n",
    "    criterion='entropy',\n",
    "    max_features=1,\n",
    "    max_depth=6,\n",
    "    random_state = 1337\n",
    ")\n",
    "pca_tree_cr.fit(pca_XD, Y)"
   ]
  },
  {
   "cell_type": "code",
   "execution_count": 329,
   "metadata": {},
   "outputs": [],
   "source": [
    "y_pred_pcacr = pca_tree_cr.predict(pca_XD)\n",
    "\n",
    "class_names = ['Attrition', 'Not Attrition']"
   ]
  },
  {
   "cell_type": "code",
   "execution_count": 330,
   "metadata": {},
   "outputs": [
    {
     "name": "stdout",
     "output_type": "stream",
     "text": [
      "               precision    recall  f1-score   support\n",
      "\n",
      "    Attrition       0.87      0.99      0.92      1233\n",
      "Not Attrition       0.80      0.20      0.32       237\n",
      "\n",
      "  avg / total       0.86      0.86      0.83      1470\n",
      "\n"
     ]
    }
   ],
   "source": [
    "tree_report3 = classification_report(Y, y_pred_pcacr, target_names=class_names)\n",
    "print(tree_report3)"
   ]
  },
  {
   "cell_type": "markdown",
   "metadata": {},
   "source": [
    "#### Precision in our classification report represents how good our model is at predicting the true positives, and avoiding false positives.  After applying PCA and reducing the features and dimensionality in our data from 55 to 34, the precision ratio actually went up to .84 to .86, making the model more precise.  The decrease in features and dimensionality most likely made our model quicker in execution.  \n",
    "\n",
    "#### The recall represents the ability of our model to find all the positive samples.  After applying PCA, the recall ratio did not change."
   ]
  },
  {
   "cell_type": "markdown",
   "metadata": {},
   "source": [
    "### Classification report for random forest after pca:"
   ]
  },
  {
   "cell_type": "code",
   "execution_count": 331,
   "metadata": {},
   "outputs": [
    {
     "data": {
      "text/plain": [
       "RandomForestClassifier(bootstrap=True, class_weight=None, criterion='gini',\n",
       "            max_depth=None, max_features='auto', max_leaf_nodes=None,\n",
       "            min_impurity_decrease=0.0, min_impurity_split=None,\n",
       "            min_samples_leaf=1, min_samples_split=2,\n",
       "            min_weight_fraction_leaf=0.0, n_estimators=10, n_jobs=1,\n",
       "            oob_score=False, random_state=None, verbose=0,\n",
       "            warm_start=False)"
      ]
     },
     "execution_count": 331,
     "metadata": {},
     "output_type": "execute_result"
    }
   ],
   "source": [
    "rfc_pcacr = ensemble.RandomForestClassifier()\n",
    "rfc_pcacr.fit(pca_XD, Y)"
   ]
  },
  {
   "cell_type": "code",
   "execution_count": 332,
   "metadata": {},
   "outputs": [],
   "source": [
    "y_pred2_pcacr = rfc_pcacr.predict(pca_XD)"
   ]
  },
  {
   "cell_type": "code",
   "execution_count": 333,
   "metadata": {},
   "outputs": [
    {
     "name": "stdout",
     "output_type": "stream",
     "text": [
      "               precision    recall  f1-score   support\n",
      "\n",
      "    Attrition       0.99      1.00      0.99      1233\n",
      "Not Attrition       1.00      0.93      0.96       237\n",
      "\n",
      "  avg / total       0.99      0.99      0.99      1470\n",
      "\n"
     ]
    }
   ],
   "source": [
    "forest_report3 = classification_report(Y, y_pred2_pcacr, target_names=class_names)\n",
    "print(forest_report3)"
   ]
  },
  {
   "cell_type": "markdown",
   "metadata": {},
   "source": [
    "#### Precision in our classification report represents how good our model is at predicting the true positives, and avoiding false positives.  After applying PCA and reducing the features and dimensionality in our data from 55 to 34, the precision ratio slightly went down to .98 from .99.  This slight decrease in precision is warranted because our model became more efficient and quicker in execution due to the decrease in features and dimension.  The decrease in features and dimensionality most likely made our model quicker in execution. \n",
    "\n",
    "#### The recall represents the ability of our model to find all the positive samples.  After applying PCA, this ratio slightly went down to .98 from .99."
   ]
  }
 ],
 "metadata": {
  "kernelspec": {
   "display_name": "Python 3",
   "language": "python",
   "name": "python3"
  },
  "language_info": {
   "codemirror_mode": {
    "name": "ipython",
    "version": 3
   },
   "file_extension": ".py",
   "mimetype": "text/x-python",
   "name": "python",
   "nbconvert_exporter": "python",
   "pygments_lexer": "ipython3",
   "version": "3.7.0"
  }
 },
 "nbformat": 4,
 "nbformat_minor": 2
}
